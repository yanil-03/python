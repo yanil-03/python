{
  "cells": [
    {
      "cell_type": "markdown",
      "metadata": {
        "id": "view-in-github",
        "colab_type": "text"
      },
      "source": [
        "<a href=\"https://colab.research.google.com/github/yanil-03/python/blob/main/Function_transformer_scratch.ipynb\" target=\"_parent\"><img src=\"https://colab.research.google.com/assets/colab-badge.svg\" alt=\"Open In Colab\"/></a>"
      ]
    },
    {
      "cell_type": "markdown",
      "id": "1647eebe",
      "metadata": {
        "id": "1647eebe"
      },
      "source": [
        "# what  is function transformer in machine learning ?"
      ]
    },
    {
      "cell_type": "markdown",
      "id": "89308a50",
      "metadata": {
        "id": "89308a50"
      },
      "source": [
        "# The FunctionTransformer is a tool in scikit-learn, a popular Python library for machine learning, that allows you to apply a specified function to the input data. The FunctionTransformer can be useful for performing custom transformations of input data in a machine learning pipeline.\n",
        "\n",
        "The FunctionTransformer takes as input a single function that will be applied to each sample in the data. This function can be any Python function that takes a single argument, such as a lambda function or a user-defined function. The function should return the transformed sample."
      ]
    },
    {
      "cell_type": "code",
      "execution_count": null,
      "id": "69bdcb25",
      "metadata": {
        "id": "69bdcb25",
        "outputId": "733c750c-6160-4938-abb0-d6ca0315bf1e"
      },
      "outputs": [
        {
          "name": "stdout",
          "output_type": "stream",
          "text": [
            "[[0.69314718 1.09861229]\n",
            " [1.38629436 1.60943791]]\n"
          ]
        }
      ],
      "source": [
        "from sklearn.preprocessing import FunctionTransformer\n",
        "import numpy as np\n",
        "\n",
        "# create a dataset\n",
        "X = np.array([[1, 2], [3, 4]])\n",
        "\n",
        "# define the transformation function\n",
        "log_transform = FunctionTransformer(np.log1p)\n",
        "\n",
        "# apply the transformation to the dataset\n",
        "X_transformed = log_transform.transform(X)\n",
        "\n",
        "# view the transformed data\n",
        "print(X_transformed)"
      ]
    },
    {
      "cell_type": "markdown",
      "id": "23975278",
      "metadata": {
        "id": "23975278"
      },
      "source": [
        "# types of function transformer in machine learning ?"
      ]
    },
    {
      "cell_type": "markdown",
      "id": "a9217db4",
      "metadata": {
        "id": "a9217db4"
      },
      "source": [
        "# There are two types of FunctionTransformer available in scikit-learn:\n",
        "\n",
        "FunctionTransformer - This transformer allows you to specify a single function that will be applied to the entire input data matrix. This transformer can be useful for feature scaling or feature extraction.\n",
        "\n",
        "ColumnTransformer - This transformer allows you to specify a different function for each column or subset of columns in the input data matrix. This transformer can be useful for applying different transformations to different features in a dataset.\n",
        "\n",
        "Both of these transformers are part of the scikit-learn library in Python and can be used in a machine learning pipeline to preprocess data before training a model."
      ]
    },
    {
      "cell_type": "markdown",
      "id": "5fe22376",
      "metadata": {
        "id": "5fe22376"
      },
      "source": [
        "# for  which condition I have to use function transformer in machine learning ?"
      ]
    },
    {
      "cell_type": "markdown",
      "id": "deeac185",
      "metadata": {
        "id": "deeac185"
      },
      "source": [
        "#  We might consider using a FunctionTransformer in a machine learning pipeline in the following situations:\n",
        "\n",
        "Custom feature engineering: If you want to engineer new features using a custom function, you can use a FunctionTransformer to apply the function to the input data matrix and create new features based on the output.\n",
        "\n",
        "Scaling and normalization: If you want to scale or normalize the input data matrix in a custom way, you can use a FunctionTransformer to apply a custom scaling or normalization function.\n",
        "\n",
        "Data cleaning: If you want to clean the input data matrix by removing outliers, imputing missing values, or replacing certain values, you can use a FunctionTransformer to apply a custom cleaning function.\n",
        "\n",
        "Dimensionality reduction: If you want to reduce the dimensionality of the input data matrix by selecting a subset of features or by applying a dimensionality reduction technique such as PCA, you can use a FunctionTransformer to apply the custom function.\n",
        "\n",
        "In general, a FunctionTransformer can be useful for any situation in which you want to apply a custom function to the input data matrix before training a machine learning model."
      ]
    },
    {
      "cell_type": "code",
      "execution_count": null,
      "id": "5e7ed474",
      "metadata": {
        "id": "5e7ed474"
      },
      "outputs": [],
      "source": [
        "import numpy as np"
      ]
    },
    {
      "cell_type": "code",
      "execution_count": null,
      "id": "6ec15809",
      "metadata": {
        "id": "6ec15809",
        "outputId": "b284271f-2348-4055-d4af-0a7261d2ac60"
      },
      "outputs": [
        {
          "name": "stdout",
          "output_type": "stream",
          "text": [
            "[[ 1  2  1  4]\n",
            " [ 3  4  9 16]]\n"
          ]
        }
      ],
      "source": [
        "# Practical usecases\n",
        "\n",
        "# 1. Custom Feature Engineering\n",
        "\n",
        "from sklearn.preprocessing import FunctionTransformer\n",
        "import numpy as np\n",
        "\n",
        "# create a dataset\n",
        "X = np.array([[1, 2], [3, 4]])\n",
        "\n",
        "# define a custom feature engineering function\n",
        "def squ(X):\n",
        "    return np.hstack((X, X**2))\n",
        "\n",
        "# create a FunctionTransformer to apply the custom function\n",
        "custom_transformer = FunctionTransformer(squ)\n",
        "\n",
        "# apply the transformer to the input data\n",
        "X_transformed = custom_transformer.transform(X)\n",
        "\n",
        "# view the transformed data\n",
        "print(X_transformed)\n"
      ]
    },
    {
      "cell_type": "code",
      "execution_count": null,
      "id": "5060dc91",
      "metadata": {
        "id": "5060dc91",
        "outputId": "b668e9ab-1dfd-4b92-bb61-b9133bb4e346"
      },
      "outputs": [
        {
          "data": {
            "text/plain": [
              "array([1, 2, 3, 4, 5, 6, 7, 8])"
            ]
          },
          "execution_count": 4,
          "metadata": {},
          "output_type": "execute_result"
        }
      ],
      "source": [
        "a = np.array([1,2,3,4])\n",
        "a\n",
        "b = np.array([5,6,7,8])\n",
        "np.hstack((a,b))"
      ]
    },
    {
      "cell_type": "code",
      "execution_count": null,
      "id": "46138baa",
      "metadata": {
        "id": "46138baa",
        "outputId": "1e784d92-8666-42b4-910b-6de72970f7a2"
      },
      "outputs": [
        {
          "name": "stdout",
          "output_type": "stream",
          "text": [
            "[[0.25 0.5 ]\n",
            " [0.75 1.  ]]\n"
          ]
        }
      ],
      "source": [
        "# 2. Scaling And Normalization\n",
        "\n",
        "from sklearn.preprocessing import FunctionTransformer\n",
        "import numpy as np\n",
        "\n",
        "# create a dataset\n",
        "X = np.array([[1, 2], [3, 4]])\n",
        "\n",
        "# define a custom scaling function\n",
        "def my_scaling(X):\n",
        "    return X / np.max(X)\n",
        "\n",
        "# create a FunctionTransformer to apply the custom function\n",
        "custom_transformer = FunctionTransformer(my_scaling)\n",
        "\n",
        "# apply the transformer to the input data\n",
        "X_transformed = custom_transformer.transform(X)\n",
        "\n",
        "# view the transformed data\n",
        "print(X_transformed)"
      ]
    },
    {
      "cell_type": "code",
      "execution_count": null,
      "id": "da29662e",
      "metadata": {
        "id": "da29662e",
        "outputId": "1ee7ff38-58c8-485a-ce4e-4f12da2ea8d4"
      },
      "outputs": [
        {
          "name": "stdout",
          "output_type": "stream",
          "text": [
            "[[1. 2.]\n",
            " [3. 0.]]\n"
          ]
        }
      ],
      "source": [
        "# 3. Data Cleaning\n",
        "\n",
        "from sklearn.preprocessing import FunctionTransformer\n",
        "import numpy as np\n",
        "\n",
        "# create a dataset with missing values\n",
        "X = np.array([[1, 2], [3, np.nan]])\n",
        "\n",
        "# define a custom cleaning function\n",
        "def my_cleaning(X):\n",
        "    X[np.isnan(X)] = 0\n",
        "    return X\n",
        "\n",
        "# create a FunctionTransformer to apply the custom function\n",
        "custom_transformer = FunctionTransformer(my_cleaning)\n",
        "\n",
        "# apply the transformer to the input data\n",
        "X_transformed = custom_transformer.transform(X)\n",
        "\n",
        "# view the transformed data\n",
        "print(X_transformed)\n"
      ]
    },
    {
      "cell_type": "markdown",
      "id": "fbe6d4f4",
      "metadata": {
        "id": "fbe6d4f4"
      },
      "source": [
        "# Real Life Use-Case of Function Transformer\n",
        "\n",
        "\n",
        "There are many real-life use cases where FunctionTransformer can be useful in machine learning pipelines. Here are a few examples:\n",
        "\n",
        "1. Image processing: In computer vision applications, FunctionTransformer can be used to apply custom functions to preprocess image data. For example, a custom function can be used to resize images, change the color balance, or apply filters to improve image quality.\n",
        "\n",
        "2. Natural language processing: In NLP applications, FunctionTransformer can be used to preprocess text data by applying custom functions to perform tasks such as tokenization, stemming, or removing stop words.\n",
        "\n",
        "3. Financial modeling: In finance, FunctionTransformer can be used to preprocess financial data by applying custom functions to transform the data, such as scaling stock prices, normalizing financial ratios, or imputing missing values.\n",
        "\n",
        "4. Audio signal processing: In speech recognition or music analysis applications, FunctionTransformer can be used to preprocess audio data by applying custom functions to perform tasks such as filtering noise, extracting features such as MFCCs (Mel-frequency cepstral coefficients), or resampling the audio signal.\n",
        "\n",
        "5. Sensor data processing: In Internet of Things (IoT) applications, FunctionTransformer can be used to preprocess sensor data by applying custom functions to remove outliers, impute missing values, or rescale sensor readings."
      ]
    },
    {
      "cell_type": "code",
      "execution_count": null,
      "id": "c2c9ee8d",
      "metadata": {
        "id": "c2c9ee8d"
      },
      "outputs": [],
      "source": [
        "import numpy as np\n",
        "import pandas as pd"
      ]
    },
    {
      "cell_type": "code",
      "execution_count": null,
      "id": "11d0e144",
      "metadata": {
        "id": "11d0e144"
      },
      "outputs": [],
      "source": [
        "df = pd.read_csv(\"C:\\\\Users\\\\saurabh\\\\Desktop\\\\Newdat\\\\placement.csv\")"
      ]
    },
    {
      "cell_type": "code",
      "execution_count": null,
      "id": "453af670",
      "metadata": {
        "id": "453af670",
        "outputId": "34d9b83e-891d-4f5b-b27d-76636196f5cd"
      },
      "outputs": [
        {
          "data": {
            "text/html": [
              "<div>\n",
              "<style scoped>\n",
              "    .dataframe tbody tr th:only-of-type {\n",
              "        vertical-align: middle;\n",
              "    }\n",
              "\n",
              "    .dataframe tbody tr th {\n",
              "        vertical-align: top;\n",
              "    }\n",
              "\n",
              "    .dataframe thead th {\n",
              "        text-align: right;\n",
              "    }\n",
              "</style>\n",
              "<table border=\"1\" class=\"dataframe\">\n",
              "  <thead>\n",
              "    <tr style=\"text-align: right;\">\n",
              "      <th></th>\n",
              "      <th>cgpa</th>\n",
              "      <th>resume_score</th>\n",
              "      <th>placed</th>\n",
              "    </tr>\n",
              "  </thead>\n",
              "  <tbody>\n",
              "    <tr>\n",
              "      <th>0</th>\n",
              "      <td>8.14</td>\n",
              "      <td>6.52</td>\n",
              "      <td>1</td>\n",
              "    </tr>\n",
              "    <tr>\n",
              "      <th>1</th>\n",
              "      <td>6.17</td>\n",
              "      <td>5.17</td>\n",
              "      <td>0</td>\n",
              "    </tr>\n",
              "    <tr>\n",
              "      <th>2</th>\n",
              "      <td>8.27</td>\n",
              "      <td>8.86</td>\n",
              "      <td>1</td>\n",
              "    </tr>\n",
              "  </tbody>\n",
              "</table>\n",
              "</div>"
            ],
            "text/plain": [
              "   cgpa  resume_score  placed\n",
              "0  8.14          6.52       1\n",
              "1  6.17          5.17       0\n",
              "2  8.27          8.86       1"
            ]
          },
          "execution_count": 15,
          "metadata": {},
          "output_type": "execute_result"
        }
      ],
      "source": [
        "df.head(3)"
      ]
    },
    {
      "cell_type": "code",
      "execution_count": null,
      "id": "6b30d975",
      "metadata": {
        "id": "6b30d975"
      },
      "outputs": [],
      "source": [
        "x = df.drop(columns = ['placed'])\n",
        "y = df['placed']"
      ]
    },
    {
      "cell_type": "code",
      "execution_count": null,
      "id": "dfd2952b",
      "metadata": {
        "id": "dfd2952b"
      },
      "outputs": [],
      "source": [
        "from sklearn.preprocessing import FunctionTransformer"
      ]
    },
    {
      "cell_type": "code",
      "execution_count": null,
      "id": "27aef033",
      "metadata": {
        "id": "27aef033"
      },
      "outputs": [],
      "source": [
        "log_transform = FunctionTransformer(np.log1p)\n",
        "\n",
        "# apply the transformation to the dataset\n",
        "X_transformed = log_transform.transform(x)\n"
      ]
    },
    {
      "cell_type": "code",
      "execution_count": null,
      "id": "f8d5947c",
      "metadata": {
        "id": "f8d5947c",
        "outputId": "e1f4c097-3b21-44a2-fa12-818e08831df2"
      },
      "outputs": [
        {
          "data": {
            "text/html": [
              "<div>\n",
              "<style scoped>\n",
              "    .dataframe tbody tr th:only-of-type {\n",
              "        vertical-align: middle;\n",
              "    }\n",
              "\n",
              "    .dataframe tbody tr th {\n",
              "        vertical-align: top;\n",
              "    }\n",
              "\n",
              "    .dataframe thead th {\n",
              "        text-align: right;\n",
              "    }\n",
              "</style>\n",
              "<table border=\"1\" class=\"dataframe\">\n",
              "  <thead>\n",
              "    <tr style=\"text-align: right;\">\n",
              "      <th></th>\n",
              "      <th>cgpa</th>\n",
              "      <th>resume_score</th>\n",
              "    </tr>\n",
              "  </thead>\n",
              "  <tbody>\n",
              "    <tr>\n",
              "      <th>0</th>\n",
              "      <td>2.212660</td>\n",
              "      <td>2.017566</td>\n",
              "    </tr>\n",
              "    <tr>\n",
              "      <th>1</th>\n",
              "      <td>1.969906</td>\n",
              "      <td>1.819699</td>\n",
              "    </tr>\n",
              "    <tr>\n",
              "      <th>2</th>\n",
              "      <td>2.226783</td>\n",
              "      <td>2.288486</td>\n",
              "    </tr>\n",
              "    <tr>\n",
              "      <th>3</th>\n",
              "      <td>2.064328</td>\n",
              "      <td>2.112635</td>\n",
              "    </tr>\n",
              "    <tr>\n",
              "      <th>4</th>\n",
              "      <td>2.142416</td>\n",
              "      <td>2.116256</td>\n",
              "    </tr>\n",
              "    <tr>\n",
              "      <th>...</th>\n",
              "      <td>...</td>\n",
              "      <td>...</td>\n",
              "    </tr>\n",
              "    <tr>\n",
              "      <th>95</th>\n",
              "      <td>1.991976</td>\n",
              "      <td>1.998774</td>\n",
              "    </tr>\n",
              "    <tr>\n",
              "      <th>96</th>\n",
              "      <td>2.222459</td>\n",
              "      <td>2.170196</td>\n",
              "    </tr>\n",
              "    <tr>\n",
              "      <th>97</th>\n",
              "      <td>2.034706</td>\n",
              "      <td>2.172476</td>\n",
              "    </tr>\n",
              "    <tr>\n",
              "      <th>98</th>\n",
              "      <td>2.212660</td>\n",
              "      <td>1.891605</td>\n",
              "    </tr>\n",
              "    <tr>\n",
              "      <th>99</th>\n",
              "      <td>1.958685</td>\n",
              "      <td>2.029463</td>\n",
              "    </tr>\n",
              "  </tbody>\n",
              "</table>\n",
              "<p>100 rows × 2 columns</p>\n",
              "</div>"
            ],
            "text/plain": [
              "        cgpa  resume_score\n",
              "0   2.212660      2.017566\n",
              "1   1.969906      1.819699\n",
              "2   2.226783      2.288486\n",
              "3   2.064328      2.112635\n",
              "4   2.142416      2.116256\n",
              "..       ...           ...\n",
              "95  1.991976      1.998774\n",
              "96  2.222459      2.170196\n",
              "97  2.034706      2.172476\n",
              "98  2.212660      1.891605\n",
              "99  1.958685      2.029463\n",
              "\n",
              "[100 rows x 2 columns]"
            ]
          },
          "execution_count": 21,
          "metadata": {},
          "output_type": "execute_result"
        }
      ],
      "source": [
        "X_transformed"
      ]
    },
    {
      "cell_type": "code",
      "execution_count": null,
      "id": "41fdeca7",
      "metadata": {
        "id": "41fdeca7"
      },
      "outputs": [],
      "source": [
        "# covid dataset ---> encode ---> x data ---> log transformation ."
      ]
    }
  ],
  "metadata": {
    "kernelspec": {
      "display_name": "Python 3 (ipykernel)",
      "language": "python",
      "name": "python3"
    },
    "language_info": {
      "codemirror_mode": {
        "name": "ipython",
        "version": 3
      },
      "file_extension": ".py",
      "mimetype": "text/x-python",
      "name": "python",
      "nbconvert_exporter": "python",
      "pygments_lexer": "ipython3",
      "version": "3.9.12"
    },
    "colab": {
      "provenance": [],
      "include_colab_link": true
    }
  },
  "nbformat": 4,
  "nbformat_minor": 5
}