{
  "cells": [
    {
      "cell_type": "markdown",
      "metadata": {
        "id": "view-in-github",
        "colab_type": "text"
      },
      "source": [
        "<a href=\"https://colab.research.google.com/github/yanil-03/python/blob/main/How_to_remove_outliers_.ipynb\" target=\"_parent\"><img src=\"https://colab.research.google.com/assets/colab-badge.svg\" alt=\"Open In Colab\"/></a>"
      ]
    },
    {
      "cell_type": "code",
      "execution_count": null,
      "id": "a5309130",
      "metadata": {
        "id": "a5309130"
      },
      "outputs": [],
      "source": [
        "import numpy as np\n",
        "import pandas as pd"
      ]
    },
    {
      "cell_type": "code",
      "execution_count": null,
      "id": "7afda2e2",
      "metadata": {
        "id": "7afda2e2"
      },
      "outputs": [],
      "source": [
        "df = pd.read_csv(\"C:\\\\Users\\\\saurabh\\\\Desktop\\\\newdat\\\\newplacementdata.csv\")"
      ]
    },
    {
      "cell_type": "code",
      "execution_count": null,
      "id": "9ff781e1",
      "metadata": {
        "id": "9ff781e1",
        "outputId": "9501b0e5-a55c-41ef-c47a-443044c22901"
      },
      "outputs": [
        {
          "data": {
            "text/html": [
              "<div>\n",
              "<style scoped>\n",
              "    .dataframe tbody tr th:only-of-type {\n",
              "        vertical-align: middle;\n",
              "    }\n",
              "\n",
              "    .dataframe tbody tr th {\n",
              "        vertical-align: top;\n",
              "    }\n",
              "\n",
              "    .dataframe thead th {\n",
              "        text-align: right;\n",
              "    }\n",
              "</style>\n",
              "<table border=\"1\" class=\"dataframe\">\n",
              "  <thead>\n",
              "    <tr style=\"text-align: right;\">\n",
              "      <th></th>\n",
              "      <th>cgpa</th>\n",
              "      <th>placement_exam_marks</th>\n",
              "      <th>placed</th>\n",
              "    </tr>\n",
              "  </thead>\n",
              "  <tbody>\n",
              "    <tr>\n",
              "      <th>0</th>\n",
              "      <td>7.19</td>\n",
              "      <td>26</td>\n",
              "      <td>1</td>\n",
              "    </tr>\n",
              "    <tr>\n",
              "      <th>1</th>\n",
              "      <td>7.46</td>\n",
              "      <td>38</td>\n",
              "      <td>1</td>\n",
              "    </tr>\n",
              "    <tr>\n",
              "      <th>2</th>\n",
              "      <td>7.54</td>\n",
              "      <td>40</td>\n",
              "      <td>1</td>\n",
              "    </tr>\n",
              "    <tr>\n",
              "      <th>3</th>\n",
              "      <td>6.42</td>\n",
              "      <td>8</td>\n",
              "      <td>1</td>\n",
              "    </tr>\n",
              "    <tr>\n",
              "      <th>4</th>\n",
              "      <td>7.23</td>\n",
              "      <td>17</td>\n",
              "      <td>0</td>\n",
              "    </tr>\n",
              "  </tbody>\n",
              "</table>\n",
              "</div>"
            ],
            "text/plain": [
              "   cgpa  placement_exam_marks  placed\n",
              "0  7.19                    26       1\n",
              "1  7.46                    38       1\n",
              "2  7.54                    40       1\n",
              "3  6.42                     8       1\n",
              "4  7.23                    17       0"
            ]
          },
          "execution_count": 3,
          "metadata": {},
          "output_type": "execute_result"
        }
      ],
      "source": [
        "df.head()"
      ]
    },
    {
      "cell_type": "code",
      "execution_count": null,
      "id": "c47a34ab",
      "metadata": {
        "id": "c47a34ab"
      },
      "outputs": [],
      "source": [
        "# even  = ((n/2)+ ((n/2)+1))/2\n",
        "# odd = ((n/2)+1)"
      ]
    },
    {
      "cell_type": "code",
      "execution_count": null,
      "id": "c44aa283",
      "metadata": {
        "id": "c44aa283"
      },
      "outputs": [],
      "source": [
        "import matplotlib.pyplot as plt\n",
        "import seaborn as sns"
      ]
    },
    {
      "cell_type": "code",
      "execution_count": null,
      "id": "af738979",
      "metadata": {
        "id": "af738979",
        "outputId": "97a78003-6ce0-4c5d-e2fe-a06c86bf0468"
      },
      "outputs": [
        {
          "data": {
            "text/plain": [
              "count    1000.000000\n",
              "mean       32.225000\n",
              "std        19.130822\n",
              "min         0.000000\n",
              "25%        17.000000\n",
              "50%        28.000000\n",
              "75%        44.000000\n",
              "max       100.000000\n",
              "Name: placement_exam_marks, dtype: float64"
            ]
          },
          "execution_count": 7,
          "metadata": {},
          "output_type": "execute_result"
        }
      ],
      "source": [
        "df['placement_exam_marks'].describe()"
      ]
    },
    {
      "cell_type": "code",
      "execution_count": null,
      "id": "d334f119",
      "metadata": {
        "id": "d334f119",
        "outputId": "40d7fa0d-dfb5-4fdb-aa70-45ae89664e8b"
      },
      "outputs": [
        {
          "data": {
            "text/plain": [
              "<AxesSubplot:xlabel='placement_exam_marks'>"
            ]
          },
          "execution_count": 8,
          "metadata": {},
          "output_type": "execute_result"
        },
        {
          "data": {
            "image/png": "[encoded data removed]",
            "text/plain": [
              "<Figure size 432x288 with 1 Axes>"
            ]
          },
          "metadata": {
            "needs_background": "light"
          },
          "output_type": "display_data"
        }
      ],
      "source": [
        "sns.boxplot(x =  df['placement_exam_marks'])"
      ]
    },
    {
      "cell_type": "code",
      "execution_count": null,
      "id": "f1b78fdb",
      "metadata": {
        "id": "f1b78fdb"
      },
      "outputs": [],
      "source": [
        "# Finding the IRQ\n",
        "\n",
        "percentile25 = df['placement_exam_marks'].quantile(0.25)\n",
        "percentile75 = df['placement_exam_marks'].quantile(0.75)"
      ]
    },
    {
      "cell_type": "code",
      "execution_count": null,
      "id": "9dead01f",
      "metadata": {
        "id": "9dead01f",
        "outputId": "e270ed48-f1dd-4277-deff-d55da0cf3a2d"
      },
      "outputs": [
        {
          "data": {
            "text/plain": [
              "17.0"
            ]
          },
          "execution_count": 10,
          "metadata": {},
          "output_type": "execute_result"
        }
      ],
      "source": [
        "percentile25"
      ]
    },
    {
      "cell_type": "code",
      "execution_count": null,
      "id": "f80c603e",
      "metadata": {
        "id": "f80c603e",
        "outputId": "aa166930-5b59-48fa-d982-2e4efc97777b"
      },
      "outputs": [
        {
          "data": {
            "text/plain": [
              "44.0"
            ]
          },
          "execution_count": 11,
          "metadata": {},
          "output_type": "execute_result"
        }
      ],
      "source": [
        "percentile75"
      ]
    },
    {
      "cell_type": "code",
      "execution_count": null,
      "id": "399ecb28",
      "metadata": {
        "id": "399ecb28",
        "outputId": "cd8c9dfe-23be-459e-9b02-a77b333c4b5b"
      },
      "outputs": [
        {
          "data": {
            "text/plain": [
              "27.0"
            ]
          },
          "execution_count": 12,
          "metadata": {},
          "output_type": "execute_result"
        }
      ],
      "source": [
        "IQR = percentile75 - percentile25\n",
        "IQR"
      ]
    },
    {
      "cell_type": "code",
      "execution_count": null,
      "id": "00e4baab",
      "metadata": {
        "id": "00e4baab",
        "outputId": "7d40c35b-e6fe-44ba-c842-bad0c60f058e"
      },
      "outputs": [
        {
          "data": {
            "text/plain": [
              "84.5"
            ]
          },
          "execution_count": 13,
          "metadata": {},
          "output_type": "execute_result"
        }
      ],
      "source": [
        "upper_limit = percentile75 + 1.5*IQR\n",
        "upper_limit"
      ]
    },
    {
      "cell_type": "code",
      "execution_count": null,
      "id": "d62fcaba",
      "metadata": {
        "id": "d62fcaba",
        "outputId": "8b4db7d4-5069-459b-fed7-6e52f03fdc4b"
      },
      "outputs": [
        {
          "data": {
            "text/plain": [
              "-23.5"
            ]
          },
          "execution_count": 14,
          "metadata": {},
          "output_type": "execute_result"
        }
      ],
      "source": [
        "lower_limit = percentile25 - 1.5*IQR\n",
        "lower_limit"
      ]
    },
    {
      "cell_type": "markdown",
      "id": "b0dd79df",
      "metadata": {
        "id": "b0dd79df"
      },
      "source": [
        "# Finding Our Outliers"
      ]
    },
    {
      "cell_type": "code",
      "execution_count": null,
      "id": "ffa15452",
      "metadata": {
        "id": "ffa15452",
        "outputId": "b89463bb-d342-473c-9a00-ce3657c795f0"
      },
      "outputs": [
        {
          "data": {
            "text/html": [
              "<div>\n",
              "<style scoped>\n",
              "    .dataframe tbody tr th:only-of-type {\n",
              "        vertical-align: middle;\n",
              "    }\n",
              "\n",
              "    .dataframe tbody tr th {\n",
              "        vertical-align: top;\n",
              "    }\n",
              "\n",
              "    .dataframe thead th {\n",
              "        text-align: right;\n",
              "    }\n",
              "</style>\n",
              "<table border=\"1\" class=\"dataframe\">\n",
              "  <thead>\n",
              "    <tr style=\"text-align: right;\">\n",
              "      <th></th>\n",
              "      <th>cgpa</th>\n",
              "      <th>placement_exam_marks</th>\n",
              "      <th>placed</th>\n",
              "    </tr>\n",
              "  </thead>\n",
              "  <tbody>\n",
              "    <tr>\n",
              "      <th>9</th>\n",
              "      <td>7.75</td>\n",
              "      <td>94</td>\n",
              "      <td>1</td>\n",
              "    </tr>\n",
              "    <tr>\n",
              "      <th>40</th>\n",
              "      <td>6.60</td>\n",
              "      <td>86</td>\n",
              "      <td>1</td>\n",
              "    </tr>\n",
              "    <tr>\n",
              "      <th>61</th>\n",
              "      <td>7.51</td>\n",
              "      <td>86</td>\n",
              "      <td>0</td>\n",
              "    </tr>\n",
              "    <tr>\n",
              "      <th>134</th>\n",
              "      <td>6.33</td>\n",
              "      <td>93</td>\n",
              "      <td>0</td>\n",
              "    </tr>\n",
              "    <tr>\n",
              "      <th>162</th>\n",
              "      <td>7.80</td>\n",
              "      <td>90</td>\n",
              "      <td>0</td>\n",
              "    </tr>\n",
              "    <tr>\n",
              "      <th>283</th>\n",
              "      <td>7.09</td>\n",
              "      <td>87</td>\n",
              "      <td>0</td>\n",
              "    </tr>\n",
              "    <tr>\n",
              "      <th>290</th>\n",
              "      <td>8.38</td>\n",
              "      <td>87</td>\n",
              "      <td>0</td>\n",
              "    </tr>\n",
              "    <tr>\n",
              "      <th>311</th>\n",
              "      <td>6.97</td>\n",
              "      <td>87</td>\n",
              "      <td>1</td>\n",
              "    </tr>\n",
              "    <tr>\n",
              "      <th>324</th>\n",
              "      <td>6.64</td>\n",
              "      <td>90</td>\n",
              "      <td>0</td>\n",
              "    </tr>\n",
              "    <tr>\n",
              "      <th>630</th>\n",
              "      <td>6.56</td>\n",
              "      <td>96</td>\n",
              "      <td>1</td>\n",
              "    </tr>\n",
              "    <tr>\n",
              "      <th>685</th>\n",
              "      <td>6.05</td>\n",
              "      <td>87</td>\n",
              "      <td>1</td>\n",
              "    </tr>\n",
              "    <tr>\n",
              "      <th>730</th>\n",
              "      <td>6.14</td>\n",
              "      <td>90</td>\n",
              "      <td>1</td>\n",
              "    </tr>\n",
              "    <tr>\n",
              "      <th>771</th>\n",
              "      <td>7.31</td>\n",
              "      <td>86</td>\n",
              "      <td>1</td>\n",
              "    </tr>\n",
              "    <tr>\n",
              "      <th>846</th>\n",
              "      <td>6.99</td>\n",
              "      <td>97</td>\n",
              "      <td>0</td>\n",
              "    </tr>\n",
              "    <tr>\n",
              "      <th>917</th>\n",
              "      <td>5.95</td>\n",
              "      <td>100</td>\n",
              "      <td>0</td>\n",
              "    </tr>\n",
              "  </tbody>\n",
              "</table>\n",
              "</div>"
            ],
            "text/plain": [
              "     cgpa  placement_exam_marks  placed\n",
              "9    7.75                    94       1\n",
              "40   6.60                    86       1\n",
              "61   7.51                    86       0\n",
              "134  6.33                    93       0\n",
              "162  7.80                    90       0\n",
              "283  7.09                    87       0\n",
              "290  8.38                    87       0\n",
              "311  6.97                    87       1\n",
              "324  6.64                    90       0\n",
              "630  6.56                    96       1\n",
              "685  6.05                    87       1\n",
              "730  6.14                    90       1\n",
              "771  7.31                    86       1\n",
              "846  6.99                    97       0\n",
              "917  5.95                   100       0"
            ]
          },
          "execution_count": 15,
          "metadata": {},
          "output_type": "execute_result"
        }
      ],
      "source": [
        "df[df['placement_exam_marks']> upper_limit]"
      ]
    },
    {
      "cell_type": "code",
      "execution_count": null,
      "id": "cc3ccb93",
      "metadata": {
        "id": "cc3ccb93",
        "outputId": "647c1b0a-8d08-49aa-baad-9b7ac3ae239e"
      },
      "outputs": [
        {
          "data": {
            "text/html": [
              "<div>\n",
              "<style scoped>\n",
              "    .dataframe tbody tr th:only-of-type {\n",
              "        vertical-align: middle;\n",
              "    }\n",
              "\n",
              "    .dataframe tbody tr th {\n",
              "        vertical-align: top;\n",
              "    }\n",
              "\n",
              "    .dataframe thead th {\n",
              "        text-align: right;\n",
              "    }\n",
              "</style>\n",
              "<table border=\"1\" class=\"dataframe\">\n",
              "  <thead>\n",
              "    <tr style=\"text-align: right;\">\n",
              "      <th></th>\n",
              "      <th>cgpa</th>\n",
              "      <th>placement_exam_marks</th>\n",
              "      <th>placed</th>\n",
              "    </tr>\n",
              "  </thead>\n",
              "  <tbody>\n",
              "  </tbody>\n",
              "</table>\n",
              "</div>"
            ],
            "text/plain": [
              "Empty DataFrame\n",
              "Columns: [cgpa, placement_exam_marks, placed]\n",
              "Index: []"
            ]
          },
          "execution_count": 16,
          "metadata": {},
          "output_type": "execute_result"
        }
      ],
      "source": [
        "df[df['placement_exam_marks']< lower_limit]"
      ]
    },
    {
      "cell_type": "code",
      "execution_count": null,
      "id": "759a7b92",
      "metadata": {
        "id": "759a7b92"
      },
      "outputs": [],
      "source": [
        "# Trimming  ---> 4(lower).....1 , upper(25).....(50) ---> here 1,50 are outliers --->\n",
        "# lower(4) <----> upper(25) mid data .\n",
        "\n",
        "# Capping ---->  4(lower).....1 , upper(25).....(50) ---> capping lower point lowest point(1)\n",
        "# upper point upper point(50)  ---> Range expand ---> outliers remove ."
      ]
    },
    {
      "cell_type": "code",
      "execution_count": null,
      "id": "d339c41b",
      "metadata": {
        "id": "d339c41b"
      },
      "outputs": [],
      "source": []
    },
    {
      "cell_type": "code",
      "execution_count": null,
      "id": "45debaef",
      "metadata": {
        "id": "45debaef"
      },
      "outputs": [],
      "source": [
        "# Trimming (Outlier Removing technique 1)"
      ]
    },
    {
      "cell_type": "code",
      "execution_count": null,
      "id": "7de97ad3",
      "metadata": {
        "id": "7de97ad3"
      },
      "outputs": [],
      "source": [
        "newdf = df[df['placement_exam_marks'] < upper_limit]"
      ]
    },
    {
      "cell_type": "code",
      "execution_count": null,
      "id": "71447442",
      "metadata": {
        "id": "71447442"
      },
      "outputs": [],
      "source": [
        "# newdf"
      ]
    },
    {
      "cell_type": "code",
      "execution_count": null,
      "id": "99cfe8c0",
      "metadata": {
        "id": "99cfe8c0"
      },
      "outputs": [],
      "source": [
        "# Comparision"
      ]
    },
    {
      "cell_type": "code",
      "execution_count": null,
      "id": "9680cc39",
      "metadata": {
        "id": "9680cc39",
        "outputId": "c729c777-8f31-4f69-f91c-e63c0eceafb4"
      },
      "outputs": [
        {
          "data": {
            "image/png": "[encoded data removed]",
            "text/plain": [
              "<Figure size 1080x360 with 2 Axes>"
            ]
          },
          "metadata": {
            "needs_background": "light"
          },
          "output_type": "display_data"
        }
      ],
      "source": [
        "plt.figure(figsize = (15,5))\n",
        "\n",
        "\n",
        "plt.subplot(222)\n",
        "sns.boxplot(x = df['placement_exam_marks'])\n",
        "\n",
        "\n",
        "plt.subplot(224)\n",
        "sns.boxplot(x = newdf['placement_exam_marks'])\n",
        "plt.show()\n"
      ]
    },
    {
      "cell_type": "code",
      "execution_count": null,
      "id": "24ddca4b",
      "metadata": {
        "id": "24ddca4b"
      },
      "outputs": [],
      "source": [
        "# Capping(Outlier Removing technique 2)"
      ]
    },
    {
      "cell_type": "code",
      "execution_count": null,
      "id": "d263ce2f",
      "metadata": {
        "id": "d263ce2f"
      },
      "outputs": [],
      "source": [
        "new_df_cap = df.copy()"
      ]
    },
    {
      "cell_type": "code",
      "execution_count": null,
      "id": "5d8cb27d",
      "metadata": {
        "id": "5d8cb27d"
      },
      "outputs": [],
      "source": [
        "# min = 5  , max 15\n",
        "\n",
        "# min 4 , 3 , 1\n",
        "# max = 20 , 30 , 50\n",
        "\n",
        "# updated_min_value = 1\n",
        "# updated_max_value = 50"
      ]
    },
    {
      "cell_type": "code",
      "execution_count": null,
      "id": "ca4355d5",
      "metadata": {
        "id": "ca4355d5"
      },
      "outputs": [],
      "source": [
        "new_df_cap['placement_exam_marks'] = np.where(\n",
        "\n",
        "    new_df_cap['placement_exam_marks'] > upper_limit ,\n",
        "    upper_limit ,\n",
        "\n",
        "    np.where(\n",
        "    new_df_cap['placement_exam_marks'] < lower_limit ,\n",
        "    lower_limit ,\n",
        "    new_df_cap['placement_exam_marks'])\n",
        "\n",
        "\n",
        ")"
      ]
    },
    {
      "cell_type": "code",
      "execution_count": null,
      "id": "ae4d009b",
      "metadata": {
        "id": "ae4d009b",
        "outputId": "b6f10cbb-423f-4349-a1df-5eb478e28155"
      },
      "outputs": [
        {
          "data": {
            "text/html": [
              "<div>\n",
              "<style scoped>\n",
              "    .dataframe tbody tr th:only-of-type {\n",
              "        vertical-align: middle;\n",
              "    }\n",
              "\n",
              "    .dataframe tbody tr th {\n",
              "        vertical-align: top;\n",
              "    }\n",
              "\n",
              "    .dataframe thead th {\n",
              "        text-align: right;\n",
              "    }\n",
              "</style>\n",
              "<table border=\"1\" class=\"dataframe\">\n",
              "  <thead>\n",
              "    <tr style=\"text-align: right;\">\n",
              "      <th></th>\n",
              "      <th>cgpa</th>\n",
              "      <th>placement_exam_marks</th>\n",
              "      <th>placed</th>\n",
              "    </tr>\n",
              "  </thead>\n",
              "  <tbody>\n",
              "    <tr>\n",
              "      <th>0</th>\n",
              "      <td>7.19</td>\n",
              "      <td>26.0</td>\n",
              "      <td>1</td>\n",
              "    </tr>\n",
              "    <tr>\n",
              "      <th>1</th>\n",
              "      <td>7.46</td>\n",
              "      <td>38.0</td>\n",
              "      <td>1</td>\n",
              "    </tr>\n",
              "    <tr>\n",
              "      <th>2</th>\n",
              "      <td>7.54</td>\n",
              "      <td>40.0</td>\n",
              "      <td>1</td>\n",
              "    </tr>\n",
              "    <tr>\n",
              "      <th>3</th>\n",
              "      <td>6.42</td>\n",
              "      <td>8.0</td>\n",
              "      <td>1</td>\n",
              "    </tr>\n",
              "    <tr>\n",
              "      <th>4</th>\n",
              "      <td>7.23</td>\n",
              "      <td>17.0</td>\n",
              "      <td>0</td>\n",
              "    </tr>\n",
              "    <tr>\n",
              "      <th>...</th>\n",
              "      <td>...</td>\n",
              "      <td>...</td>\n",
              "      <td>...</td>\n",
              "    </tr>\n",
              "    <tr>\n",
              "      <th>995</th>\n",
              "      <td>8.87</td>\n",
              "      <td>44.0</td>\n",
              "      <td>1</td>\n",
              "    </tr>\n",
              "    <tr>\n",
              "      <th>996</th>\n",
              "      <td>9.12</td>\n",
              "      <td>65.0</td>\n",
              "      <td>1</td>\n",
              "    </tr>\n",
              "    <tr>\n",
              "      <th>997</th>\n",
              "      <td>4.89</td>\n",
              "      <td>34.0</td>\n",
              "      <td>0</td>\n",
              "    </tr>\n",
              "    <tr>\n",
              "      <th>998</th>\n",
              "      <td>8.62</td>\n",
              "      <td>46.0</td>\n",
              "      <td>1</td>\n",
              "    </tr>\n",
              "    <tr>\n",
              "      <th>999</th>\n",
              "      <td>4.90</td>\n",
              "      <td>10.0</td>\n",
              "      <td>1</td>\n",
              "    </tr>\n",
              "  </tbody>\n",
              "</table>\n",
              "<p>1000 rows × 3 columns</p>\n",
              "</div>"
            ],
            "text/plain": [
              "     cgpa  placement_exam_marks  placed\n",
              "0    7.19                  26.0       1\n",
              "1    7.46                  38.0       1\n",
              "2    7.54                  40.0       1\n",
              "3    6.42                   8.0       1\n",
              "4    7.23                  17.0       0\n",
              "..    ...                   ...     ...\n",
              "995  8.87                  44.0       1\n",
              "996  9.12                  65.0       1\n",
              "997  4.89                  34.0       0\n",
              "998  8.62                  46.0       1\n",
              "999  4.90                  10.0       1\n",
              "\n",
              "[1000 rows x 3 columns]"
            ]
          },
          "execution_count": 26,
          "metadata": {},
          "output_type": "execute_result"
        }
      ],
      "source": [
        "new_df_cap"
      ]
    },
    {
      "cell_type": "code",
      "execution_count": null,
      "id": "c44136d1",
      "metadata": {
        "id": "c44136d1",
        "outputId": "5d5c797c-7c58-4701-fa27-25f16cdc9094"
      },
      "outputs": [
        {
          "data": {
            "text/plain": [
              "(1000, 3)"
            ]
          },
          "execution_count": 27,
          "metadata": {},
          "output_type": "execute_result"
        }
      ],
      "source": [
        "new_df_cap.shape"
      ]
    },
    {
      "cell_type": "code",
      "execution_count": null,
      "id": "95fcd96e",
      "metadata": {
        "id": "95fcd96e"
      },
      "outputs": [],
      "source": [
        "# Comparision"
      ]
    },
    {
      "cell_type": "code",
      "execution_count": null,
      "id": "440058d0",
      "metadata": {
        "id": "440058d0",
        "outputId": "2b23909a-4332-4b3c-c940-517c4aeb49e2"
      },
      "outputs": [
        {
          "data": {
            "image/png": "[encoded data removed]",
            "text/plain": [
              "<Figure size 1080x576 with 2 Axes>"
            ]
          },
          "metadata": {
            "needs_background": "light"
          },
          "output_type": "display_data"
        }
      ],
      "source": [
        "plt.figure(figsize = (15,8))\n",
        "\n",
        "\n",
        "plt.subplot(222)\n",
        "sns.boxplot(x=df['placement_exam_marks'])\n",
        "\n",
        "\n",
        "plt.subplot(224)\n",
        "sns.boxplot(x=new_df_cap['placement_exam_marks'])\n",
        "plt.show()"
      ]
    },
    {
      "cell_type": "code",
      "execution_count": null,
      "id": "44c60e9d",
      "metadata": {
        "id": "44c60e9d"
      },
      "outputs": [],
      "source": [
        "# titanic dataset ---> Age ---> outliers ---> check\n",
        "# Handle ---> triimng , capping ."
      ]
    }
  ],
  "metadata": {
    "kernelspec": {
      "display_name": "Python 3 (ipykernel)",
      "language": "python",
      "name": "python3"
    },
    "language_info": {
      "codemirror_mode": {
        "name": "ipython",
        "version": 3
      },
      "file_extension": ".py",
      "mimetype": "text/x-python",
      "name": "python",
      "nbconvert_exporter": "python",
      "pygments_lexer": "ipython3",
      "version": "3.9.12"
    },
    "colab": {
      "provenance": [],
      "include_colab_link": true
    }
  },
  "nbformat": 4,
  "nbformat_minor": 5
}