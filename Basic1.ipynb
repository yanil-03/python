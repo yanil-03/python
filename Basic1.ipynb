{
 "cells": [
  {
   "cell_type": "code",
   "execution_count": 1,
   "metadata": {
    "id": "CwbcoJOsjB4H"
   },
   "outputs": [],
   "source": [
    "#python"
   ]
  },
  {
   "cell_type": "code",
   "execution_count": 3,
   "metadata": {
    "colab": {
     "base_uri": "https://localhost:8080/"
    },
    "executionInfo": {
     "elapsed": 13,
     "status": "ok",
     "timestamp": 1742290540115,
     "user": {
      "displayName": "Yanil Kumawat",
      "userId": "04361852768998722380"
     },
     "user_tz": -330
    },
    "id": "dtucG_PSmp-E",
    "outputId": "0527ec68-653b-47c7-d135-6cc20626851f"
   },
   "outputs": [
    {
     "name": "stdout",
     "output_type": "stream",
     "text": [
      "54\n"
     ]
    }
   ],
   "source": [
    "a = 54\n",
    "print(a)"
   ]
  },
  {
   "cell_type": "code",
   "execution_count": null,
   "metadata": {
    "colab": {
     "base_uri": "https://localhost:8080/"
    },
    "executionInfo": {
     "elapsed": 9,
     "status": "ok",
     "timestamp": 1742290506025,
     "user": {
      "displayName": "Yanil Kumawat",
      "userId": "04361852768998722380"
     },
     "user_tz": -330
    },
    "id": "x0gEmuQnmfR_",
    "outputId": "c2994553-d08e-41fd-85a1-7625031f063a"
   },
   "outputs": [
    {
     "data": {
      "text/plain": [
       "bool"
      ]
     },
     "execution_count": 6,
     "metadata": {},
     "output_type": "execute_result"
    }
   ],
   "source": [
    "type(34)\n",
    "type(56.26)\n",
    "type(\"hey\")\n",
    "type(8>7)"
   ]
  },
  {
   "cell_type": "code",
   "execution_count": null,
   "metadata": {
    "colab": {
     "base_uri": "https://localhost:8080/"
    },
    "executionInfo": {
     "elapsed": 3406,
     "status": "ok",
     "timestamp": 1742290645321,
     "user": {
      "displayName": "Yanil Kumawat",
      "userId": "04361852768998722380"
     },
     "user_tz": -330
    },
    "id": "zYZ89Pw3m9Tr",
    "outputId": "6f2895c7-1179-4c04-e233-89986e62bb74"
   },
   "outputs": [
    {
     "name": "stdout",
     "output_type": "stream",
     "text": [
      "Enter your name : yanil\n",
      "yanil\n"
     ]
    }
   ],
   "source": [
    " a = input(\"Enter your name : \")\n",
    " print(a)"
   ]
  },
  {
   "cell_type": "code",
   "execution_count": null,
   "metadata": {
    "colab": {
     "base_uri": "https://localhost:8080/"
    },
    "executionInfo": {
     "elapsed": 3330,
     "status": "ok",
     "timestamp": 1742376834423,
     "user": {
      "displayName": "Yanil Kumawat",
      "userId": "04361852768998722380"
     },
     "user_tz": -330
    },
    "id": "lARFjkpOnI8O",
    "outputId": "05540703-fb7a-46c0-9d0f-251f5585c988"
   },
   "outputs": [
    {
     "name": "stdout",
     "output_type": "stream",
     "text": [
      "enter your age:89\n",
      "OLd\n"
     ]
    }
   ],
   "source": [
    "a=int(input(\"enter your age:\"))\n",
    "if(0<=a<=20):\n",
    "  print(\"child\")\n",
    "\n",
    "elif(21<=a<=50):\n",
    "  print(\"Young\")\n",
    "\n",
    "if(51<=a<=90):\n",
    "  print(\"OLd\")\n",
    "else:\n",
    "  print(\"enter valid age!!!\")"
   ]
  },
  {
   "cell_type": "code",
   "execution_count": 17,
   "metadata": {
    "colab": {
     "base_uri": "https://localhost:8080/"
    },
    "executionInfo": {
     "elapsed": 10103,
     "status": "ok",
     "timestamp": 1742452657548,
     "user": {
      "displayName": "Yanil Kumawat",
      "userId": "04361852768998722380"
     },
     "user_tz": -330
    },
    "id": "DhTUi0f7wcxi",
    "outputId": "eaa5f569-b822-4af6-ce60-bc173328adfa"
   },
   "outputs": [
    {
     "name": "stdout",
     "output_type": "stream",
     "text": [
      "PIZZA: Rs.100 | BURGER: Rs.50 | ICE-CREAM: 30\n",
      "Enter your item: pizza\n",
      "Enter your quantity: 10\n",
      "Your 10% discounted price is : Rs. 900.0\n"
     ]
    }
   ],
   "source": [
    "print(\"PIZZA: Rs.100 | BURGER: Rs.50 | ICE-CREAM: 30\")\n",
    "# p=0\n",
    "flag=1\n",
    "item =input(\"Enter your item: \")\n",
    "if(item == \"pizza\"):\n",
    "  qty= int(input(\"Enter your quantity: \"))\n",
    "  p=qty*100\n",
    "\n",
    "elif(item == \"burger\"):\n",
    "  qty= int(input(\"Enter your quantity: \"))\n",
    "  p=qty*50\n",
    "\n",
    "elif(item == \"icecream\"):\n",
    "  qty= int(input(\"Enter your quantity: \"))\n",
    "  p=qty*30\n",
    "\n",
    "else:\n",
    "  print(\"Please select a valid item.....\")\n",
    "  flag=0\n",
    "\n",
    "\n",
    "#  billing code\n",
    "if(flag==1):\n",
    "  if p>=1000 :\n",
    "      print(\"Your 10% discounted price is : Rs.\" , p-(p*10/100))\n",
    "  else:\n",
    "      print(\"Your total bill is : Rs.\" , p)"
   ]
  }
 ],
 "metadata": {
  "colab": {
   "authorship_tag": "ABX9TyPIvBGqZG9HpzX6hGO0mMka",
   "provenance": []
  },
  "kernelspec": {
   "display_name": "Python 3",
   "name": "python3"
  },
  "language_info": {
   "codemirror_mode": {
    "name": "ipython",
    "version": 3
   },
   "file_extension": ".py",
   "mimetype": "text/x-python",
   "name": "python",
   "nbconvert_exporter": "python",
   "pygments_lexer": "ipython3",
   "version": "3.13.4"
  }
 },
 "nbformat": 4,
 "nbformat_minor": 0
}
